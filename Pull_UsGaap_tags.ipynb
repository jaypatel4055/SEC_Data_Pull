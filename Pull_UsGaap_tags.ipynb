{
 "cells": [
  {
   "cell_type": "code",
   "execution_count": 4,
   "id": "210a35da-401d-4168-9fb7-083f29c4176e",
   "metadata": {},
   "outputs": [],
   "source": [
    "def create_test_notebook():\n",
    "    \"\"\"\n",
    "    Creates a Jupyter notebook to test SEC filing download and parsing for Microsoft's 2024 10-K\n",
    "    \"\"\"\n",
    "    import nbformat as nbf\n",
    "    nb = nbf.v4.new_notebook()\n",
    "    \n",
    "    # Cell 1 - Imports\n",
    "    cell1 = nbf.v4.new_code_cell('''\n",
    "import pandas as pd\n",
    "from bs4 import BeautifulSoup\n",
    "import requests\n",
    "from sec_filing_parser import download_sec_filing, parse_sec_filing\n",
    "''')\n",
    "    \n",
    "    # Cell 2 - Microsoft 10-K URL\n",
    "    cell2 = nbf.v4.new_code_cell('''\n",
    "# Microsoft 2024 10-K filing URL\n",
    "msft_10k_url = \"https://www.sec.gov/Archives/edgar/data/789019/000156459024003825/msft-10k_20240630.htm\"\n",
    "''')\n",
    "    \n",
    "    # Cell 3 - Test download_sec_filing\n",
    "    cell3 = nbf.v4.new_code_cell('''\n",
    "# Test downloading the filing\n",
    "files = download_sec_filing(msft_10k_url)\n",
    "print(\"Downloaded files:\", files.keys() if files else None)\n",
    "''')\n",
    "    \n",
    "    # Cell 4 - Test parse_sec_filing\n",
    "    cell4 = nbf.v4.new_code_cell('''\n",
    "# Test parsing the filing\n",
    "filing_data = parse_sec_filing(msft_10k_url)\n",
    "\n",
    "if filing_data:\n",
    "    print(\"\\nAvailable data sections:\", filing_data.keys())\n",
    "    \n",
    "    # Display XBRL data summary if available\n",
    "    if 'xbrl_data' in filing_data:\n",
    "        print(\"\\nXBRL Data Preview:\")\n",
    "        print(filing_data['xbrl_data'].head())\n",
    "    \n",
    "    # Display text blocks summary if available\n",
    "    if 'text_blocks' in filing_data:\n",
    "        print(\"\\nText Blocks Preview:\")\n",
    "        print(filing_data['text_blocks'].head())\n",
    "    \n",
    "    # Display footnotes summary if available\n",
    "    if 'footnotes' in filing_data:\n",
    "        print(\"\\nFootnotes Preview:\")\n",
    "        print(filing_data['footnotes'].head())\n",
    "else:\n",
    "    print(\"Failed to parse filing\")\n",
    "''')\n",
    "    \n",
    "    # Add cells to notebook\n",
    "    nb.cells.extend([cell1, cell2, cell3, cell4])\n",
    "    \n",
    "    # Save notebook\n",
    "    with open('sec_filing_test.ipynb', 'w') as f:\n",
    "        nbf.write(nb, f)\n",
    "    \n",
    "    print(\"Test notebook 'sec_filing_test.ipynb' has been created\")\n"
   ]
  },
  {
   "cell_type": "code",
   "execution_count": 8,
   "id": "a38d0688-2509-4ae0-96ed-518e309b0a8c",
   "metadata": {},
   "outputs": [
    {
     "name": "stdout",
     "output_type": "stream",
     "text": [
      "Test notebook 'sec_filing_test.ipynb' has been created\n"
     ]
    }
   ],
   "source": [
    "create_test_notebook()"
   ]
  },
  {
   "cell_type": "code",
   "execution_count": 10,
   "id": "1b055046-8c31-4d9a-b6b9-d2bdba4457d3",
   "metadata": {},
   "outputs": [
    {
     "data": {
      "text/plain": [
       "'/Users/jaypatel/SEC_Data_Pull'"
      ]
     },
     "execution_count": 10,
     "metadata": {},
     "output_type": "execute_result"
    }
   ],
   "source": [
    "pwd"
   ]
  }
 ],
 "metadata": {
  "kernelspec": {
   "display_name": "Python 3 (ipykernel)",
   "language": "python",
   "name": "python3"
  },
  "language_info": {
   "codemirror_mode": {
    "name": "ipython",
    "version": 3
   },
   "file_extension": ".py",
   "mimetype": "text/x-python",
   "name": "python",
   "nbconvert_exporter": "python",
   "pygments_lexer": "ipython3",
   "version": "3.10.16"
  }
 },
 "nbformat": 4,
 "nbformat_minor": 5
}
