{
 "cells": [
  {
   "cell_type": "code",
   "execution_count": 2,
   "id": "04e2750d",
   "metadata": {},
   "outputs": [],
   "source": [
    "\n",
    "import pandas as pd\n",
    "from bs4 import BeautifulSoup\n",
    "import requests\n",
    "from sec_filing_parser import download_sec_filing, parse_sec_filing\n"
   ]
  },
  {
   "cell_type": "code",
   "execution_count": 4,
   "id": "bfbb002a",
   "metadata": {},
   "outputs": [],
   "source": [
    "\n",
    "# Microsoft 2024 10-K filing URL\n",
    "msft_10k_url = \"https://www.sec.gov/Archives/edgar/data/789019/000095017023035122/msft-20230630.htm\"\n"
   ]
  },
  {
   "cell_type": "code",
   "execution_count": 6,
   "id": "d9e670ab",
   "metadata": {},
   "outputs": [
    {
     "name": "stdout",
     "output_type": "stream",
     "text": [
      "Error downloading SEC filing: HTTPSConnectionPool(host='www.sec.gov', port=443): Max retries exceeded with url: /Archives/edgar/data/789019/000095017023035122/msft-20230630.htm (Caused by NewConnectionError('<urllib3.connection.HTTPSConnection object at 0x1371eb910>: Failed to establish a new connection: [Errno 8] nodename nor servname provided, or not known'))\n",
      "Downloaded files: None\n"
     ]
    }
   ],
   "source": [
    "\n",
    "# Test downloading the filing\n",
    "files = download_sec_filing(msft_10k_url)\n",
    "print(\"Downloaded files:\", files.keys() if files else None)\n"
   ]
  },
  {
   "cell_type": "code",
   "execution_count": 7,
   "id": "7f5628b8",
   "metadata": {},
   "outputs": [
    {
     "name": "stdout",
     "output_type": "stream",
     "text": [
      "Error downloading SEC filing: HTTPSConnectionPool(host='www.sec.gov', port=443): Max retries exceeded with url: /Archives/edgar/data/789019/000095017023035122/msft-20230630.htm (Caused by NewConnectionError('<urllib3.connection.HTTPSConnection object at 0x121ac6bc0>: Failed to establish a new connection: [Errno 8] nodename nor servname provided, or not known'))\n",
      "Failed to parse filing\n"
     ]
    }
   ],
   "source": [
    "\n",
    "# Test parsing the filing\n",
    "filing_data = parse_sec_filing(msft_10k_url)\n",
    "\n",
    "if filing_data:\n",
    "    print(\"Available data sections:\", filing_data.keys())\n",
    "    \n",
    "    # Display XBRL data summary if available\n",
    "    if 'xbrl_data' in filing_data:\n",
    "        print(\"XBRL Data Preview:\")\n",
    "        print(filing_data['xbrl_data'].head())\n",
    "    \n",
    "    # Display text blocks summary if available\n",
    "    if 'text_blocks' in filing_data:\n",
    "        print(\"Text Blocks Preview:\")\n",
    "        print(filing_data['text_blocks'].head())\n",
    "    \n",
    "    # Display footnotes summary if available\n",
    "    if 'footnotes' in filing_data:\n",
    "        print(\"Footnotes Preview:\")\n",
    "        print(filing_data['footnotes'].head())\n",
    "else:\n",
    "    print(\"Failed to parse filing\")\n"
   ]
  },
  {
   "cell_type": "code",
   "execution_count": null,
   "id": "af65f670-4c95-412c-92e3-0b7fb84b9b8f",
   "metadata": {},
   "outputs": [],
   "source": []
  }
 ],
 "metadata": {
  "kernelspec": {
   "display_name": "Python 3 (ipykernel)",
   "language": "python",
   "name": "python3"
  },
  "language_info": {
   "codemirror_mode": {
    "name": "ipython",
    "version": 3
   },
   "file_extension": ".py",
   "mimetype": "text/x-python",
   "name": "python",
   "nbconvert_exporter": "python",
   "pygments_lexer": "ipython3",
   "version": "3.10.16"
  }
 },
 "nbformat": 4,
 "nbformat_minor": 5
}
