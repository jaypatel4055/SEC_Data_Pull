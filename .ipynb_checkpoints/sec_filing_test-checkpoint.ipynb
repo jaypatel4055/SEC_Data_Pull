{
 "cells": [
  {
   "cell_type": "code",
   "execution_count": null,
   "id": "04e2750d",
   "metadata": {},
   "outputs": [],
   "source": [
    "\n",
    "import pandas as pd\n",
    "from bs4 import BeautifulSoup\n",
    "import requests\n",
    "from sec_filing_parser import download_sec_filing, parse_sec_filing\n"
   ]
  },
  {
   "cell_type": "code",
   "execution_count": null,
   "id": "bfbb002a",
   "metadata": {},
   "outputs": [],
   "source": [
    "\n",
    "# Microsoft 2024 10-K filing URL\n",
    "msft_10k_url = \"https://www.sec.gov/Archives/edgar/data/789019/000156459024003825/msft-10k_20240630.htm\"\n"
   ]
  },
  {
   "cell_type": "code",
   "execution_count": null,
   "id": "d9e670ab",
   "metadata": {},
   "outputs": [],
   "source": [
    "\n",
    "# Test downloading the filing\n",
    "files = download_sec_filing(msft_10k_url)\n",
    "print(\"Downloaded files:\", files.keys() if files else None)\n"
   ]
  },
  {
   "cell_type": "code",
   "execution_count": null,
   "id": "7f5628b8",
   "metadata": {},
   "outputs": [],
   "source": [
    "\n",
    "# Test parsing the filing\n",
    "filing_data = parse_sec_filing(msft_10k_url)\n",
    "\n",
    "if filing_data:\n",
    "    print(\"\n",
    "Available data sections:\", filing_data.keys())\n",
    "    \n",
    "    # Display XBRL data summary if available\n",
    "    if 'xbrl_data' in filing_data:\n",
    "        print(\"\n",
    "XBRL Data Preview:\")\n",
    "        print(filing_data['xbrl_data'].head())\n",
    "    \n",
    "    # Display text blocks summary if available\n",
    "    if 'text_blocks' in filing_data:\n",
    "        print(\"\n",
    "Text Blocks Preview:\")\n",
    "        print(filing_data['text_blocks'].head())\n",
    "    \n",
    "    # Display footnotes summary if available\n",
    "    if 'footnotes' in filing_data:\n",
    "        print(\"\n",
    "Footnotes Preview:\")\n",
    "        print(filing_data['footnotes'].head())\n",
    "else:\n",
    "    print(\"Failed to parse filing\")\n"
   ]
  }
 ],
 "metadata": {},
 "nbformat": 4,
 "nbformat_minor": 5
}
